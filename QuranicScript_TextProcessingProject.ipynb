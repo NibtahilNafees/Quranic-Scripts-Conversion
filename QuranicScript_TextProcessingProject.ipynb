{
 "cells": [
  {
   "cell_type": "markdown",
   "id": "37da4a6a",
   "metadata": {},
   "source": [
    "# TEXT PROCESSING\n",
    "## Converting Uthmani Quranic Script to IndoPak Script"
   ]
  },
  {
   "cell_type": "code",
   "execution_count": 1,
   "id": "7d2d2461",
   "metadata": {},
   "outputs": [],
   "source": [
    "#Nibtahil Nafees 21I-0330\n",
    "#Aiman Karim 21I-0664\n",
    "#BS-AI\n",
    "#BS-CS"
   ]
  },
  {
   "cell_type": "code",
   "execution_count": 2,
   "id": "2706c389",
   "metadata": {},
   "outputs": [],
   "source": [
    "import pandas as pd\n",
    "import numpy as np\n",
    "import pyarabic.araby as araby\n",
    "import pyarabic.number as number"
   ]
  },
  {
   "cell_type": "code",
   "execution_count": 8,
   "id": "9f9786c7",
   "metadata": {},
   "outputs": [],
   "source": [
    "    zabar =  'َ'\n",
    "    zeyr = 'ﹺ'\n",
    "    double_zabar  = 'ً'\n",
    "    double_zeyr = 'ٍ' \n",
    "    dammatan = 'ٌ'\n",
    "    damma = 'ُ'\n",
    "    shadda = 'ّ'\n",
    "    sakun = 'ْ'\n",
    "    Allah = 'ﷲ'\n",
    "    dagger_alif = 'ٰ'\n",
    "    hamza_tulwasal = 'ٱ'\n",
    "    hamza_above = 'ٲ'\n",
    "    hamza_below = 'ٳ'\n",
    "    high_hamza = 'ٴ'\n",
    "    dotless_khah = 'ۡ'\n",
    "    alif = 'ا'\n",
    "    lam_with_alifhamza_above = 'ﻷ'\n",
    "    lam_with_alifhamza_below = 'ﻹ'\n",
    "    lam_with_alif = 'ﻻ'\n",
    "    yay = 'ﻱ'\n",
    "    hamza_abovee = 'ٲَ',\n",
    "    hamza_beloww = 'ٳِ',\n",
    "    word_uthmani = 'إِيَّاكَ',\n",
    "    word_indopak = 'اِیَّاكَ'"
   ]
  },
  {
   "cell_type": "code",
   "execution_count": 10,
   "id": "cf550e1c",
   "metadata": {},
   "outputs": [],
   "source": [
    "import os\n",
    "import xml.etree.ElementTree as ET\n",
    "\n",
    "#using xml file to load dictionary\n",
    "\n",
    "def load_dictionary_from_xml(file_path):\n",
    "    dictionary = {}\n",
    "    tree = ET.parse(file_path)\n",
    "    root = tree.getroot()\n",
    "    for entry in root.findall('entry'):\n",
    "        key = entry.find('key').text\n",
    "        value = entry.find('value').text\n",
    "        dictionary[key.strip()] = value.strip()\n",
    "    return dictionary\n",
    "\n",
    "def modify_surahs(input_file, output_file, dictionary_file):\n",
    "    arabic_dict = load_dictionary_from_xml(dictionary_file)\n",
    "    dotless_khah = arabic_dict.get('dotless_khah', \"\\u06E1\")\n",
    "    dagger_alif = arabic_dict.get('dagger_alif', \"\\u0670\")\n",
    "    shadda = arabic_dict.get('shadda', \"\\u0651\")\n",
    "    hamza_abovee = arabic_dict.get('hamza_abovee', 'ٲَ')\n",
    "    hamza_beloww = arabic_dict.get('hamza_beloww', 'ٳِ')\n",
    "    lam_with_alifhamza_above = arabic_dict.get('lam_with_alifhamza_above', 'ﻷ')\n",
    "    lam_with_alifhamza_below = arabic_dict.get('lam_with_alifhamza_below', 'ﻹ')\n",
    "    alif = arabic_dict.get('alif', 'ا')\n",
    "\n",
    "    # Reading the input text file\n",
    "    with open(input_file, 'r', encoding='utf-8') as file:\n",
    "        text = file.read()\n",
    "\n",
    "    previous_had_shadda_or_alef = False\n",
    "    modified_text = \"\"\n",
    "\n",
    "    for i in range(len(text)):\n",
    "        if i > 0 and (text[i-1] == shadda or (text[i-1] == dagger_alif and text[i] != shadda)):\n",
    "            previous_had_shadda_or_alef = True\n",
    "        else:\n",
    "            previous_had_shadda_or_alef = False\n",
    "        \n",
    "        if previous_had_shadda_or_alef and text[i] == \"ي\":\n",
    "            modified_text += text[i] + dotless_khah\n",
    "        else:\n",
    "            modified_text += text[i]\n",
    "\n",
    "    # Replacing the Alif Maqsoora with Alif\n",
    "    modified_text = modified_text.replace('إ', 'ا')\n",
    "    modified_text = modified_text.replace('أ' , 'ا')\n",
    "    modified_text = modified_text.replace('ٱللَّهِ',' اللهِ')\n",
    "    modified_text = modified_text.replace('ٰ','ﹶ')\n",
    "\n",
    "    # Mapping Uthmani script to Indo script\n",
    "    mapping = {\n",
    "        arabic_dict.get('hamza_tulwasal', ''): alif,\n",
    "        sakun: dotless_khah,\n",
    "        hamza_abovee: alif,\n",
    "        hamza_beloww: alif,\n",
    "        lam_with_alifhamza_above: arabic_dict.get('lam_with_alif', ''),\n",
    "        lam_with_alifhamza_below: arabic_dict.get('lam_with_alif', ''),\n",
    "    }\n",
    "\n",
    "    indo_script = \"\"\n",
    "    for char in modified_text:\n",
    "        if char in mapping:\n",
    "            indo_script += mapping[char]\n",
    "        else:\n",
    "            indo_script += char\n",
    "\n",
    "    output_dir = os.path.dirname(output_file)\n",
    "    if not os.path.exists(output_dir):\n",
    "        os.makedirs(output_dir)\n",
    "\n",
    "    with open(output_file, 'w', encoding='utf-8') as file:\n",
    "        file.write(indo_script)\n",
    "\n",
    "\n",
    "input_file = r'C:\\Users\\user\\Desktop\\Iknex_internship\\quran-uthmani-correct.txt'\n",
    "output_file = r'C:\\Users\\user\\Desktop\\Iknex_internship\\Output\\output.txt'\n",
    "dictionary_file = 'arabic_dict.xml'\n",
    "modify_surahs(input_file, output_file, dictionary_file)\n"
   ]
  },
  {
   "cell_type": "markdown",
   "id": "fd3793d7",
   "metadata": {},
   "source": [
    "## CODE FOR COMPARING WITH GOLD TRUTH"
   ]
  },
  {
   "cell_type": "code",
   "execution_count": 12,
   "id": "75d09d86",
   "metadata": {},
   "outputs": [
    {
     "name": "stdout",
     "output_type": "stream",
     "text": [
      "Differences written to the output file.\n"
     ]
    }
   ],
   "source": [
    "import difflib\n",
    "\n",
    "def compare_text_files(file1_path, file2_path, output_file_path):\n",
    "    try:\n",
    "        with open(file1_path, 'r', encoding='utf-8') as file1:\n",
    "            text1 = file1.read()\n",
    "            \n",
    "        with open(file2_path, 'r', encoding='utf-8') as file2:\n",
    "            text2 = file2.read()\n",
    "            \n",
    "        words1 = text1.split()\n",
    "        words2 = text2.split()\n",
    "        diff = list(difflib.ndiff(words1, words2))\n",
    "\n",
    "        # Extracting differences\n",
    "        differences = []\n",
    "        for i, d in enumerate(diff):\n",
    "            if d.startswith('- ') or d.startswith('+ '):\n",
    "                differences.append((i, d))\n",
    "#writing diff to a file\n",
    "        with open(output_file_path, 'w', encoding='utf-8') as output_file:\n",
    "            for index, diff in differences:\n",
    "                output_file.write(f\"Difference at position {index}: {diff}\\n\")\n",
    "\n",
    "        return \"Differences written to the output file.\"\n",
    "\n",
    "    except FileNotFoundError:\n",
    "        return \"One or both files not found.\"\n",
    "\n",
    "file1_path = r\"C:\\Users\\user\\Desktop\\Iknex_internship\\Output\\output.txt\"\n",
    "file2_path = r\"C:\\Users\\user\\Desktop\\Iknex_internship\\Output\\indopak_text.txt\"\n",
    "output_file_path = r\"C:\\Users\\user\\Desktop\\Iknex_internship\\Output\\comparison.txt\"\n",
    "result = compare_text_files(file1_path, file2_path, output_file_path)\n",
    "print(result)\n"
   ]
  },
  {
   "cell_type": "code",
   "execution_count": null,
   "id": "b9726b1d",
   "metadata": {},
   "outputs": [],
   "source": []
  }
 ],
 "metadata": {
  "kernelspec": {
   "display_name": "Python 3 (ipykernel)",
   "language": "python",
   "name": "python3"
  },
  "language_info": {
   "codemirror_mode": {
    "name": "ipython",
    "version": 3
   },
   "file_extension": ".py",
   "mimetype": "text/x-python",
   "name": "python",
   "nbconvert_exporter": "python",
   "pygments_lexer": "ipython3",
   "version": "3.9.13"
  }
 },
 "nbformat": 4,
 "nbformat_minor": 5
}
